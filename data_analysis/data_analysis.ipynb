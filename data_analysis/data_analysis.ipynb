{
 "cells": [
  {
   "cell_type": "code",
   "execution_count": null,
   "id": "150fd6e9",
   "metadata": {
    "vscode": {
     "languageId": "plaintext"
    }
   },
   "outputs": [],
   "source": [
    "\n"
   ]
  },
  {
   "cell_type": "code",
   "execution_count": null,
   "id": "8708122c",
   "metadata": {
    "vscode": {
     "languageId": "plaintext"
    }
   },
   "outputs": [],
   "source": [
    "train_index_file = \"/home/tkimura4/data/datasets/2025-09-21-ICT/train_index.txt\"\n",
    "val_index_file = \"/home/tkimura4/data/datasets/2025-09-21-ICT/val_index.txt\"\n",
    "\n",
    "# load files - a list where each line is an item\n",
    "\n",
    "\n",
    "vehicle_names = ['nissan', 'lexus', 'mazda', 'benz']\n",
    "\n",
    "# retain all the items where only single vehicle runs are present - so not nissan_benz - just nissan, and benz etc.\n",
    "\n",
    "# print how many of each vehicle items are there\n"
   ]
  },
  {
   "cell_type": "code",
   "execution_count": null,
   "id": "49388e9d",
   "metadata": {
    "vscode": {
     "languageId": "plaintext"
    }
   },
   "outputs": [],
   "source": [
    "# Analyzing one data point\n",
    "\n",
    "sample_file_name = \"/home/tkimura4/data/datasets/2025-09-21-ICT/individual_time_samples/run6_rs5_331_nissan_93.pt\"\n",
    "\n",
    "# print all keys of this sample\n",
    "\n"
   ]
  }
 ],
 "metadata": {
  "language_info": {
   "name": "python"
  }
 },
 "nbformat": 4,
 "nbformat_minor": 5
}
